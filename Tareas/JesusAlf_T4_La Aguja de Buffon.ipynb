{
  "cells": [
    {
      "cell_type": "markdown",
      "metadata": {
        "id": "QK5zCX0zQsAD"
      },
      "source": [
        "#**Jesus Romero Alfaro**\n",
        "\n",
        "##Tarea 4\n",
        "\n",
        "---\n",
        "\n",
        "##Calcular la aguja de Buffon\n"
      ]
    },
    {
      "cell_type": "markdown",
      "metadata": {
        "id": "Et0KDOXeSY5u"
      },
      "source": [
        "Primero imprtamos las librerias que vamos a utilizar"
      ]
    },
    {
      "cell_type": "code",
      "execution_count": 1,
      "metadata": {
        "id": "_11icmpXBEZ0"
      },
      "outputs": [],
      "source": [
        "import random   \n",
        "import math"
      ]
    },
    {
      "cell_type": "code",
      "execution_count": 2,
      "metadata": {
        "colab": {
          "base_uri": "https://localhost:8080/"
        },
        "id": "uMoaHWidA0tk",
        "outputId": "2ecd0c62-15fb-41ca-abc0-823546857581"
      },
      "outputs": [
        {
          "name": "stdout",
          "output_type": "stream",
          "text": [
            "Toca la linea  47519  veces\n",
            "NO toca la linea  102481  veces\n",
            "\n",
            "El valor de pi es:  3.156632084008502\n"
          ]
        }
      ],
      "source": [
        "n = 150000                                                                        # \"n\" representa el numero de agujas que vamos a lanzar\n",
        "\n",
        "sc = 0\n",
        "nc = 0\n",
        "\n",
        "for i in range(n):\n",
        "\n",
        "  x = random.random()                                                            # Aqui representamos la cordenada \"x\" de nuestro punto\n",
        "  a = random.uniform(0,180)                                                      # Aqui representamos el angulo con el que va a caer nuestra aguja\n",
        "\n",
        "  c = math.cos(a)                                                                # Calculamos el cos del angulo\n",
        "\n",
        "  dis = 0.5 * c                                                                  # Sacamos la distancia del centro de la aguja a la punta de la aguja en el eje X \n",
        "\n",
        "\n",
        "  if (dis<=x and dis<=1-x):                                                      # Si \"dis\" es menor a \"x\" y menor a \"x-1\" no cruza por ninguno de las lineas\n",
        "    nc = nc + 1\n",
        "\n",
        "  else:\n",
        "    sc = sc+1\n",
        "\n",
        "p = (n)/sc                                                                       # Sacamos el valor de Pi\n",
        "\n",
        "print(\"Toca la linea \", sc, \" veces\", end='\\n')\n",
        "print(\"NO toca la linea \", nc, \" veces\", end='\\n\\n')\n",
        "\n",
        "print(\"El valor de pi es: \", p)"
      ]
    }
  ],
  "metadata": {
    "colab": {
      "name": "JesusAlf_La Aguja de Buffon.ipynb",
      "provenance": []
    },
    "interpreter": {
      "hash": "cd40eac72591e60645ad25b2718bc13d1b67dacf24bc467e3748fff1cf16ceb8"
    },
    "kernelspec": {
      "display_name": "Python 3.10.4 64-bit",
      "language": "python",
      "name": "python3"
    },
    "language_info": {
      "codemirror_mode": {
        "name": "ipython",
        "version": 3
      },
      "file_extension": ".py",
      "mimetype": "text/x-python",
      "name": "python",
      "nbconvert_exporter": "python",
      "pygments_lexer": "ipython3",
      "version": "3.10.4"
    }
  },
  "nbformat": 4,
  "nbformat_minor": 0
}
