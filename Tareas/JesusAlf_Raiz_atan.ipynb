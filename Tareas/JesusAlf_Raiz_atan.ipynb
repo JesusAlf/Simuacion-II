{
  "nbformat": 4,
  "nbformat_minor": 0,
  "metadata": {
    "colab": {
      "name": "JesusAlf_Raiz atan.ipynb",
      "provenance": []
    },
    "kernelspec": {
      "name": "python3",
      "display_name": "Python 3"
    },
    "language_info": {
      "name": "python"
    }
  },
  "cells": [
    {
      "cell_type": "markdown",
      "source": [
        "#**Jesus Romero Alfaro**\n",
        "\n",
        "##Tarea 3\n",
        "\n",
        "---\n",
        "\n",
        "Calcular la integral de raiz cuadrada de arco tangente de 0 a 1, usando el metodo de Monte Carlo\n",
        "\n",
        "##$f(x) = \\int_{0}^{1} \\sqrt(arctan(x))$"
      ],
      "metadata": {
        "id": "2B_KlrEAP2m_"
      }
    },
    {
      "cell_type": "markdown",
      "source": [
        "Lo primero que tenemos que hacer es llamar la libreria que vamos a utilizar, en este caso la libreria Random"
      ],
      "metadata": {
        "id": "ZlmyrgEnQxjG"
      }
    },
    {
      "cell_type": "code",
      "source": [
        "import random   \n",
        "import math"
      ],
      "metadata": {
        "id": "HYuAAZ0iQyVs"
      },
      "execution_count": 2,
      "outputs": []
    },
    {
      "cell_type": "markdown",
      "source": [
        "Para este ejercicio generamos un punto aleatorio $(x,y)$ con \n",
        "\n",
        "## $x \\sim U (0,1)$ \n",
        "\n",
        "y\n",
        "\n",
        "## $y \\sim U (0,1)$ \n",
        "\n",
        "El cual describe la posicion donde va a caer nuestro punto.\n",
        "\n",
        "Despues generamos un punto $y_1$ y $x_1$ los cuales van a describir la funcion en $x$ y en $y$ respectivamente.  \n",
        "\n",
        "## $y_1 = \\sqrt(arctan(x))$\n",
        "\n",
        "Para sacar el valor de $x_1$ despejamos el valor de $x$ de la funcion $f(x)$ \n",
        "\n",
        "## $x_1 = tan(y^2)$\n",
        "\n",
        "Ahora, el problema nos pide sacar la integral de la funcion $f(x)$, si recordamos que la integral es el area bajo la curva, entonces lo que necesitamos es saber por metodo de Monte Carlo cuantos puntos caen dentro de la funcion $f(x)$ y el numero de puntos que caen dentro los vamos a dividir entre el total de puntos que lanzamos.\n",
        "\n",
        "\n",
        "En este caso ocupe una doble condicion la cual nos dice si el punto aleatorio $y$ es menor que la funcion $y_1$ que esta evaluada en $x$ significa que el punto esta dentro de la funcion, y para asegurarnos que esto cumple tambien decimos que si $x$ es mayor que $x_1$ que esta evaluada en $y$, estamos seguros que el punto esta dentro de la funcion, por lo tanto aumentamos el contador \"c\" el cual va sumando los puntos que caen dentro de la funcion. "
      ],
      "metadata": {
        "id": "JpolRjZexdSs"
      }
    },
    {
      "cell_type": "code",
      "execution_count": 76,
      "metadata": {
        "colab": {
          "base_uri": "https://localhost:8080/"
        },
        "id": "unr9K_tZPsRV",
        "outputId": "9d168e67-1a86-4fa0-fc1a-ba8ce9f8ff35"
      },
      "outputs": [
        {
          "output_type": "stream",
          "name": "stdout",
          "text": [
            "El valor de la integral es: 0.629816\n"
          ]
        }
      ],
      "source": [
        "c = 0                           #Contador donde sumamos los puntos dentro del area de la funcion\n",
        "n = 1000000                     # \"n\" representa el numero de puntos que queremos en nuetra simulacion \n",
        "\n",
        "for i in range(n):\n",
        "\n",
        "  x = random.random()           # Aqui representamos la cordenada \"x\" de nuestro punto\n",
        "  y = random.random()           # Aqui representamos la cordenada \"y\" de nuestro punto\n",
        "\n",
        "  y1 = math.sqrt(math.atan(x))  # Valor de \"y\" en la funcion\n",
        "  x1 = math.tan(y**2)           # Valor de \"x\" en la funcion\n",
        "\n",
        "  if (y<=y1 and x>=x1):         # Con esto sabemos si los puntos estan dentro de la funcion\n",
        "    c = c + 1                   # Si el punto cae dentro de la funcion le sumamos 1 al contador\n",
        "\n",
        "vi = (c/n)                      # Sacamos el valor de la integral\n",
        "\n",
        "print(\"El valor de la integral es:\", vi)"
      ]
    },
    {
      "cell_type": "markdown",
      "source": [
        ""
      ],
      "metadata": {
        "id": "UEm4sVUmP1tC"
      }
    }
  ]
}