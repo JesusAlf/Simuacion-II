{
  "cells": [
    {
      "cell_type": "markdown",
      "metadata": {
        "id": "Ra9nsrVB-AiE"
      },
      "source": [
        "#**Jesus Romero Alfaro**\n",
        "\n",
        "##Tarea 1\n",
        "\n",
        "---\n",
        "\n",
        "##Estimación del número $\\pi$"
      ]
    },
    {
      "cell_type": "markdown",
      "metadata": {
        "id": "kYqe5tfH-WLt"
      },
      "source": [
        "Lo primero que tenemos que hacer es llamar la libreria que vamos a utilizar, en este caso la libreria Random"
      ]
    },
    {
      "cell_type": "code",
      "execution_count": 2,
      "metadata": {
        "id": "g4mEU1C--W7J"
      },
      "outputs": [],
      "source": [
        "import random   "
      ]
    },
    {
      "cell_type": "markdown",
      "metadata": {
        "id": "yaBahzvl-PHn"
      },
      "source": [
        "Para poder hacer esta estimacion hay que tener en cuenta varias cosas: \n",
        "\n",
        "Sabemos que el area del cuadrado unitario con el cual estamos trabajando seria \n",
        "\n",
        "##$A_{cua} = r * r = r^2$\n",
        "\n",
        "Sabemos que el area de un circulo es \n",
        "\n",
        "##$A_{cir} = π * r^2$ \n",
        "\n",
        "Pero como nosotros solo estamos trabajando con una cuarta parte del circulo seria \n",
        "\n",
        "##$A_{cir} = \\frac{π * r^2}{4}$\n",
        "\n",
        "Para poder encontrar una relacion entre estas areas decimos \n",
        "\n",
        "##$\\frac{A_{cir}}{A_{cua}} = \\frac {\\frac{π * r^2}{4}} {r^2}$\n",
        "\n",
        "\n",
        "##$\\frac{A_{cir}}{A_{cua}} = \\frac {π * r^2}{4 * r^2}$\n",
        "\n",
        "##$\\frac{A_{cir}}{A_{cua}} = \\frac {π }{4}$\n",
        "\n",
        "##$π = \\frac{A_{cir}}{A_{cua}} * 4 $\n",
        "\n",
        "\n",
        "---\n",
        "\n",
        "Ahora para saber que puntos estan dentro de nuestra circunferencia ocupamos la formula \n",
        "\n",
        "##$x^2 + y^2$\n",
        "\n",
        "Como nuestra circunferencia es de radio uno, la distancia mas lejana que puede tomar un punto, del centro de nuestro circulo, seria 1, por lo tanto para poder comprobar esto ocupamos la ecuacion de pitagoras, la cual dice que \n",
        "\n",
        "##$x^2 + y^2 = c^2$\n",
        "\n",
        "Pero nosotros ya sabemos que \"c\" tiene que ser 1\n",
        "\n",
        "Por lo tanto, todos los puntos al elevar sus cordenadas al cuadrado y despues sumarlas, si la suma es igual o menor a 1, sabemos que el punto debe estar dentro de la curcunferencia\n",
        "\n",
        "##$x^2 + y^2 \\leq 1 \\rightarrow$ El punto esta dentro de la circunferencia "
      ]
    },
    {
      "cell_type": "code",
      "execution_count": 7,
      "metadata": {
        "colab": {
          "base_uri": "https://localhost:8080/"
        },
        "id": "a3npCceG96ol",
        "outputId": "66a48c02-ee72-49bc-e2f1-cc7c0dd9a66c"
      },
      "outputs": [
        {
          "name": "stdout",
          "output_type": "stream",
          "text": [
            "El valor de Pi es:  3.1412608\n"
          ]
        }
      ],
      "source": [
        "p = 0\n",
        "n = 10000000              # \"n\" representa el numero de puntos que queremos en nuetra simulacion \n",
        "\n",
        "for i in range(n):\n",
        "\n",
        "  x = random.random()     # Aqui representamos la cordenada \"x\" de nuestro punto\n",
        "  y = random.random()     # Aqui representamos la cordenada \"y\" de nuestro punto\n",
        "\n",
        "  d = x**2 + y**2         # Con esto nos aseguramos que el punto este dentro de nuestra circunferencia \n",
        "\n",
        "  if (d<=1):              # Si el punto esta dentro de la circunferencia lo sumamos en el contador \"p\"\n",
        "    p = p + 1     \n",
        "\n",
        "vp = (p/n)*4              # Sacamos el valor de Pi con la formula anterior\n",
        "\n",
        "print(\"El valor de Pi es: \", vp)"
      ]
    }
  ],
  "metadata": {
    "colab": {
      "name": "JesusAlf_Estimacion de Pi.ipynb",
      "provenance": []
    },
    "interpreter": {
      "hash": "cd40eac72591e60645ad25b2718bc13d1b67dacf24bc467e3748fff1cf16ceb8"
    },
    "kernelspec": {
      "display_name": "Python 3.10.4 64-bit",
      "language": "python",
      "name": "python3"
    },
    "language_info": {
      "codemirror_mode": {
        "name": "ipython",
        "version": 3
      },
      "file_extension": ".py",
      "mimetype": "text/x-python",
      "name": "python",
      "nbconvert_exporter": "python",
      "pygments_lexer": "ipython3",
      "version": "3.10.4"
    }
  },
  "nbformat": 4,
  "nbformat_minor": 0
}
