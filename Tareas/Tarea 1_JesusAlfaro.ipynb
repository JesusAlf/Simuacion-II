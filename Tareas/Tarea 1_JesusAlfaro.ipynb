{
  "nbformat": 4,
  "nbformat_minor": 0,
  "metadata": {
    "colab": {
      "name": "Tarea_1_JesusAlfaro.ipynb",
      "provenance": []
    },
    "kernelspec": {
      "name": "python3",
      "display_name": "Python 3"
    },
    "language_info": {
      "name": "python"
    }
  },
  "cells": [
    {
      "cell_type": "markdown",
      "source": [
        "#**Jesus Romero Alfaro**\n",
        "\n",
        "##Tarea 1"
      ],
      "metadata": {
        "id": "Ra9nsrVB-AiE"
      }
    },
    {
      "cell_type": "markdown",
      "source": [
        "##Estimación del número $\\pi$"
      ],
      "metadata": {
        "id": "lzcgSJPY-Jtg"
      }
    },
    {
      "cell_type": "markdown",
      "source": [
        "Lo primero que tenemos que hacer es llamar la libreria que vamos a utilizar, en este caso la libreria Random"
      ],
      "metadata": {
        "id": "kYqe5tfH-WLt"
      }
    },
    {
      "cell_type": "code",
      "source": [
        "import random   "
      ],
      "metadata": {
        "id": "g4mEU1C--W7J"
      },
      "execution_count": 1,
      "outputs": []
    },
    {
      "cell_type": "markdown",
      "source": [
        "Para poder hacer esta estimacion hay que tener en cuenta varias cosas: \n",
        "\n",
        "Sabemos que el area del cuadrado unitario con el cual estamos trabajando seria \n",
        "\n",
        "##$A_{cua} = r * r = r^2$\n",
        "\n",
        "Sabemos que el area de un circulo es \n",
        "\n",
        "##$A_{cir} = π * r^2$ \n",
        "\n",
        "Pero como nosotros solo estamos trabajando con una cuarta parte del circulo seria \n",
        "\n",
        "##$A_{cir} = \\frac{π * r^2}{4}$\n",
        "\n",
        "Para poder encontrar una relacion entre estas areas decimos \n",
        "\n",
        "##$\\frac{A_{cir}}{A_{cua}} = \\frac {\\frac{π * r^2}{4}} {r^2}$\n",
        "\n",
        "\n",
        "##$\\frac{A_{cir}}{A_{cua}} = \\frac {π * r^2}{4 * r^2}$\n",
        "\n",
        "##$\\frac{A_{cir}}{A_{cua}} = \\frac {π }{4}$\n",
        "\n",
        "##$π = \\frac{A_{cir}}{A_{cua}} * 4 $\n",
        "\n",
        "\n",
        "---\n",
        "\n",
        "Ahora para saber que puntos estan dentro de nuestra circunferencia ocupamos la formula \n",
        "\n",
        "##$x^2 + y^2$\n",
        "\n",
        "Como nuestra circunferencia es de radio uno, la distancia mas lejana que puede tomar un punto, del centro de nuestro circulo, seria 1, por lo tanto para poder comprobar esto ocupamos la ecuacion de pitagoras, la cual dice que \n",
        "\n",
        "##$x^2 + y^2 = c^2$\n",
        "\n",
        "Pero nosotros ya sabemos que \"c\" tiene que ser 1\n",
        "\n",
        "Por lo tanto, todos los puntos al elevar sus cordenadas al cuadrado y despues sumarlas, si la suma es igual o menor a 1, sabemos que el punto debe estar dentro de la curcunferencia\n",
        "\n",
        "##$x^2 + y^2 \\leq 1 \\rightarrow$ El punto esta dentro de la circunferencia "
      ],
      "metadata": {
        "id": "yaBahzvl-PHn"
      }
    },
    {
      "cell_type": "code",
      "execution_count": 2,
      "metadata": {
        "colab": {
          "base_uri": "https://localhost:8080/"
        },
        "id": "a3npCceG96ol",
        "outputId": "66a48c02-ee72-49bc-e2f1-cc7c0dd9a66c"
      },
      "outputs": [
        {
          "output_type": "stream",
          "name": "stdout",
          "text": [
            "3.1413968\n"
          ]
        }
      ],
      "source": [
        "p = 0\n",
        "n = 10000000              # \"n\" representa el numero de puntos que queremos en nuetra simulacion \n",
        "\n",
        "for i in range(n):\n",
        "\n",
        "  x = random.random()     # Aqui representamos la cordenada \"x\" de nuestro punto\n",
        "  y = random.random()     # Aqui representamos la cordenada \"y\" de nuestro punto\n",
        "\n",
        "  d = x**2 + y**2         # Con esto nos aseguramos que el punto este dentro de nuestra circunferencia \n",
        "\n",
        "  if (d<=1):              # Si el punto esta dentro de la circunferencia lo sumamos en el contador \"p\"\n",
        "    p = p + 1     \n",
        "\n",
        "vp = (p/n)*4              # Sacamos el valor de Pi con la formula anterior\n",
        "\n",
        "print(vp)"
      ]
    }
  ]
}
