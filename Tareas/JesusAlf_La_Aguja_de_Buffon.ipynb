{
  "nbformat": 4,
  "nbformat_minor": 0,
  "metadata": {
    "colab": {
      "name": "JesusAlf_La Aguja de Buffon.ipynb",
      "provenance": []
    },
    "kernelspec": {
      "name": "python3",
      "display_name": "Python 3"
    },
    "language_info": {
      "name": "python"
    }
  },
  "cells": [
    {
      "cell_type": "markdown",
      "source": [
        "#**Jesus Romero Alfaro**\n",
        "\n",
        "##Tarea 4\n",
        "\n",
        "---\n",
        "\n",
        "##Calcular la aguja de Buffon\n"
      ],
      "metadata": {
        "id": "QK5zCX0zQsAD"
      }
    },
    {
      "cell_type": "markdown",
      "source": [
        "Primero imprtamos las librerias que vamos a utilizar"
      ],
      "metadata": {
        "id": "Et0KDOXeSY5u"
      }
    },
    {
      "cell_type": "code",
      "source": [
        "import random   \n",
        "import math"
      ],
      "metadata": {
        "id": "_11icmpXBEZ0"
      },
      "execution_count": 2,
      "outputs": []
    },
    {
      "cell_type": "code",
      "source": [
        "n = 150000                                                                        # \"n\" representa el numero de agujas que vamos a lanzar\n",
        "\n",
        "sc = 0\n",
        "nc = 0\n",
        "\n",
        "for i in range(n):\n",
        "\n",
        "  x = random.random()                                                            # Aqui representamos la cordenada \"x\" de nuestro punto\n",
        "  a = random.uniform(0,180)                                                      # Aqui representamos el angulo con el que va a caer nuestra aguja\n",
        "\n",
        "  c = math.cos(a)                                                                # Calculamos el cos del angulo\n",
        "\n",
        "  dis = 0.5 * c                                                                  # Sacamos la distancia del centro de la aguja a la punta de la aguja en el eje X \n",
        "\n",
        "\n",
        "  if (dis<=x and dis<=1-x):                                                      # Si \"dis\" es menor a \"x\" y menor a \"x-1\" no cruza por ninguno de las lineas\n",
        "    nc = nc + 1\n",
        "\n",
        "  else:\n",
        "    sc = sc+1\n",
        "\n",
        "p = (n)/sc                                                                       # Sacamos el valor de Pi\n",
        "\n",
        "print(\"Toca la linea \", sc, \" veces\", end='\\n')\n",
        "print(\"NO toca la linea \", nc, \" veces\", end='\\n\\n')\n",
        "\n",
        "print(\"El valor de pi es: \", p)"
      ],
      "metadata": {
        "colab": {
          "base_uri": "https://localhost:8080/"
        },
        "id": "uMoaHWidA0tk",
        "outputId": "2ecd0c62-15fb-41ca-abc0-823546857581"
      },
      "execution_count": 79,
      "outputs": [
        {
          "output_type": "stream",
          "name": "stdout",
          "text": [
            "Toca la linea  47679  veces\n",
            "NO toca la linea  102321  veces\n",
            "\n",
            "El valor de pi es:  3.146039136726861\n"
          ]
        }
      ]
    }
  ]
}