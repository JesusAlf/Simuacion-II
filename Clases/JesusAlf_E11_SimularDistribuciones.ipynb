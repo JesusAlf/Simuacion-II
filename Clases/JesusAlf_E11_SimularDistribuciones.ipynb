{
 "cells": [
  {
   "cell_type": "markdown",
   "metadata": {},
   "source": [
    "#**Jesus Romero Alfaro**\n",
    "\n",
    "##Ejercicio 11\n",
    "\n",
    "---\n",
    "\n",
    "Simular dos distribuciones de probabilidad (no la normal, no la exponencial), por el método que prefieran."
   ]
  },
  {
   "cell_type": "code",
   "execution_count": 1,
   "metadata": {},
   "outputs": [
    {
     "data": {
      "image/png": "[encoded data removed]",
      "text/plain": [
       "<Figure size 576x288 with 1 Axes>"
      ]
     },
     "metadata": {
      "needs_background": "light"
     },
     "output_type": "display_data"
    },
    {
     "name": "stdout",
     "output_type": "stream",
     "text": [
      "\n",
      "El promedio por aproximacion es:  49.9557\n",
      "\n",
      "El promedio por Esperanza es np:  50.0\n"
     ]
    }
   ],
   "source": [
    "from random import random\n",
    "import matplotlib.pyplot as plt\n",
    "def binomial (p,n):\n",
    "    u=random()\n",
    "  #formula recursiva\n",
    "    pro=(1-p)**n\n",
    "    s=pro\n",
    "    i=0\n",
    "    while s<u:\n",
    "        pro=((n-i)/(i+1))*(p/(1-p))*pro\n",
    "        s=s+pro\n",
    "        i=i+1\n",
    "    return i\n",
    "plt.figure(figsize = (8, 4))\n",
    "plt.hist([binomial(0.5, 100) for i in range(10000)],color=\"blue\", bins = 100)\n",
    "plt.title('Binomial')\n",
    "plt.show()\n",
    "n=10000\n",
    "suma=0\n",
    "for i in range(n):\n",
    "    suma=suma+binomial(0.5,100)\n",
    "print(\"\\nEl promedio por aproximacion es: \",suma/n)\n",
    "print(\"\\nEl promedio por Esperanza es np: \" ,100*.5)"
   ]
  },
  {
   "cell_type": "code",
   "execution_count": 3,
   "metadata": {
    "vscode": {
     "languageId": "markdown"
    }
   },
   "outputs": [
    {
     "data": {
      "image/png": "[encoded data removed]",
      "text/plain": [
       "<Figure size 576x288 with 1 Axes>"
      ]
     },
     "metadata": {
      "needs_background": "light"
     },
     "output_type": "display_data"
    },
    {
     "name": "stdout",
     "output_type": "stream",
     "text": [
      "\n",
      "El promedio por aproximacion es:  4.9865\n",
      "\n",
      "La esperanza de distribucion de Poisson es igual a lamda:  2\n"
     ]
    }
   ],
   "source": [
    "from random import random\n",
    "from math import exp,sqrt\n",
    "from statistics import mean,variance\n",
    "def poisson(lamb):\n",
    "    u=random()\n",
    "    pro=exp(-lamb)\n",
    "    s=pro\n",
    "    i=0\n",
    "    while s<u:\n",
    "        pro=(lamb/(i+1))*pro\n",
    "        s=s+pro\n",
    "        i=i+1\n",
    "    return i\n",
    "plt.figure(figsize = (8, 4))\n",
    "plt.hist([poisson(5) for i in range(10000)],color=\"r\", bins = 100)\n",
    "plt.title('Poisson')\n",
    "plt.show()\n",
    "n=10000\n",
    "suma=0\n",
    "l=[]\n",
    "for i in range(n):\n",
    "    x=poisson(5)\n",
    "    l.append(x)\n",
    "    suma=suma+x\n",
    "print(\"\\nEl promedio por aproximacion es: \", suma/n)\n",
    "print(\"\\nLa esperanza de distribucion de Poisson es igual a lamda: \", poisson(5))"
   ]
  }
 ],
 "metadata": {
  "kernelspec": {
   "display_name": "Python 3.10.4 64-bit",
   "language": "python",
   "name": "python3"
  },
  "language_info": {
   "codemirror_mode": {
    "name": "ipython",
    "version": 3
   },
   "file_extension": ".py",
   "mimetype": "text/x-python",
   "name": "python",
   "nbconvert_exporter": "python",
   "pygments_lexer": "ipython3",
   "version": "3.10.4"
  },
  "orig_nbformat": 4,
  "vscode": {
   "interpreter": {
    "hash": "cd40eac72591e60645ad25b2718bc13d1b67dacf24bc467e3748fff1cf16ceb8"
   }
  }
 },
 "nbformat": 4,
 "nbformat_minor": 2
}
