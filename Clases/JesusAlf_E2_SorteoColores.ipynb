{
 "cells": [
  {
   "cell_type": "markdown",
   "metadata": {},
   "source": [
    "#**Jesus Romero Alfaro**\n",
    "\n",
    "##Ejercicio 2\n",
    "\n",
    "---\n"
   ]
  },
  {
   "cell_type": "markdown",
   "metadata": {},
   "source": [
    "Simular un sorteo de los colores blanco, negro, rojo, azul y verde."
   ]
  },
  {
   "cell_type": "code",
   "execution_count": 3,
   "metadata": {},
   "outputs": [
    {
     "name": "stdout",
     "output_type": "stream",
     "text": [
      "El color que salio es: azul\n"
     ]
    }
   ],
   "source": [
    "from random import choice\n",
    "colores= [\"blanco\",\"negro\",\"rojo\",\"azul\",\"verde\"]\n",
    "print(f'El color que salio es: {choice(colores)}')"
   ]
  },
  {
   "cell_type": "markdown",
   "metadata": {},
   "source": [
    "Simular 5 sorteos con sustitución."
   ]
  },
  {
   "cell_type": "code",
   "execution_count": 4,
   "metadata": {},
   "outputs": [
    {
     "name": "stdout",
     "output_type": "stream",
     "text": [
      "El color que salio es: azul\n",
      "El color que salio es: rojo\n",
      "El color que salio es: azul\n",
      "El color que salio es: blanco\n",
      "El color que salio es: azul\n"
     ]
    }
   ],
   "source": [
    "from random import choice\n",
    "colores= [\"blanco\",\"negro\",\"rojo\",\"azul\",\"verde\"]\n",
    "for i in range(5):\n",
    "  print(f'El color que salio es: {choice(colores)}')"
   ]
  }
 ],
 "metadata": {
  "kernelspec": {
   "display_name": "Python 3.10.4 64-bit",
   "language": "python",
   "name": "python3"
  },
  "language_info": {
   "codemirror_mode": {
    "name": "ipython",
    "version": 3
   },
   "file_extension": ".py",
   "mimetype": "text/x-python",
   "name": "python",
   "nbconvert_exporter": "python",
   "pygments_lexer": "ipython3",
   "version": "3.10.4"
  },
  "orig_nbformat": 4,
  "vscode": {
   "interpreter": {
    "hash": "cd40eac72591e60645ad25b2718bc13d1b67dacf24bc467e3748fff1cf16ceb8"
   }
  }
 },
 "nbformat": 4,
 "nbformat_minor": 2
}
