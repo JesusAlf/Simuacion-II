{
 "cells": [
  {
   "cell_type": "markdown",
   "metadata": {},
   "source": [
    "#**Jesus Romero Alfaro**\n",
    "\n",
    "##Ejercicio 15\n",
    "\n",
    "---\n",
    "\n",
    "¿Cómo accedemos al elemento 'c' de la lista [3, 'c'] dentro de lista?"
   ]
  },
  {
   "cell_type": "code",
   "execution_count": 12,
   "metadata": {},
   "outputs": [],
   "source": [
    "lista = [1,2,3,4,5, 'a', 'b', 'c', [1,2], [3, 'c']]"
   ]
  },
  {
   "cell_type": "code",
   "execution_count": 13,
   "metadata": {},
   "outputs": [
    {
     "data": {
      "text/plain": [
       "'c'"
      ]
     },
     "execution_count": 13,
     "metadata": {},
     "output_type": "execute_result"
    }
   ],
   "source": [
    "lista[9][1] #primer corchete es el lugar de la lista general "
   ]
  },
  {
   "cell_type": "markdown",
   "metadata": {},
   "source": [
    "Calcular el promedio de:\n",
    "\n",
    "-a\n",
    "\n",
    "-b\n",
    "\n",
    "-5a ¿Es igual a 5*(promedio de a)?\n",
    "\n",
    "-a + b ¿Es igual a la suma de los promedios?"
   ]
  },
  {
   "cell_type": "code",
   "execution_count": 14,
   "metadata": {},
   "outputs": [],
   "source": [
    "a = [1, 2, 3, 4, 5]\n",
    "b = [6,7,8,9,10]"
   ]
  },
  {
   "cell_type": "code",
   "execution_count": 15,
   "metadata": {},
   "outputs": [
    {
     "name": "stdout",
     "output_type": "stream",
     "text": [
      "Promedio de a 3\n",
      "Promedio de b 8\n"
     ]
    }
   ],
   "source": [
    "from statistics import mean \n",
    "print(\"Promedio de a\",mean(a))\n",
    "print(\"Promedio de b\",mean(b))"
   ]
  },
  {
   "cell_type": "code",
   "execution_count": 16,
   "metadata": {},
   "outputs": [
    {
     "name": "stdout",
     "output_type": "stream",
     "text": [
      "[1, 2, 3, 4, 5, 1, 2, 3, 4, 5, 1, 2, 3, 4, 5, 1, 2, 3, 4, 5, 1, 2, 3, 4, 5]\n",
      "15\n"
     ]
    }
   ],
   "source": [
    "print(5*a) #repite la lista 5 veces \n",
    "print(5*mean(a)) #multiplica la media por 5 "
   ]
  },
  {
   "cell_type": "code",
   "execution_count": 17,
   "metadata": {},
   "outputs": [
    {
     "name": "stdout",
     "output_type": "stream",
     "text": [
      "[1, 2, 3, 4, 5, 6, 7, 8, 9, 10]\n",
      "11\n",
      "5.5\n"
     ]
    }
   ],
   "source": [
    "print(a+b) #junta las dos listas en una sola lista \n",
    "print(mean(a)+mean(b)) #solo suma los valores promedios de las listas por separado \n",
    "print(mean(a+b)) #saca el promedio de las dos listas juntas como si fueran una sola "
   ]
  },
  {
   "cell_type": "markdown",
   "metadata": {},
   "source": [
    "##1.- Generar una lista de 20 números aleatorios."
   ]
  },
  {
   "cell_type": "code",
   "execution_count": 18,
   "metadata": {},
   "outputs": [
    {
     "name": "stdout",
     "output_type": "stream",
     "text": [
      "[0.41173738596407605, 0.41262947348841905, 0.7279108084004283, 0.032435071878920474, 0.738495351292524, 0.033336683925139554, 0.2833226437740478, 0.9172511684216156, 0.02429285012545679, 0.048449653263650805, 0.6971364636942807, 0.9324587411996496, 0.018886561935080648, 0.27101343334123573, 0.41955825084544063, 0.11145475768568569, 0.1652339200059174, 0.38662523485965805, 0.688583227768449, 0.6582928025462772]\n"
     ]
    }
   ],
   "source": [
    "import random\n",
    "lista_numeros=[]\n",
    "for i in range (20):\n",
    "    lista_numeros.append(random.random())\n",
    "print(lista_numeros)"
   ]
  },
  {
   "cell_type": "markdown",
   "metadata": {},
   "source": [
    "##2.- Obtener el promedio de los 10 últimos números generados."
   ]
  },
  {
   "cell_type": "code",
   "execution_count": 19,
   "metadata": {},
   "outputs": [
    {
     "name": "stdout",
     "output_type": "stream",
     "text": [
      "0.4349243393881675\n"
     ]
    }
   ],
   "source": [
    "print(mean(lista_numeros[10:20])) #toma los elementos de posicion 10 a la posicion 19 "
   ]
  }
 ],
 "metadata": {
  "kernelspec": {
   "display_name": "Python 3.10.4 64-bit",
   "language": "python",
   "name": "python3"
  },
  "language_info": {
   "codemirror_mode": {
    "name": "ipython",
    "version": 3
   },
   "file_extension": ".py",
   "mimetype": "text/x-python",
   "name": "python",
   "nbconvert_exporter": "python",
   "pygments_lexer": "ipython3",
   "version": "3.10.4"
  },
  "orig_nbformat": 4,
  "vscode": {
   "interpreter": {
    "hash": "cd40eac72591e60645ad25b2718bc13d1b67dacf24bc467e3748fff1cf16ceb8"
   }
  }
 },
 "nbformat": 4,
 "nbformat_minor": 2
}
