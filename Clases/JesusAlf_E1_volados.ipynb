{
 "cells": [
  {
   "cell_type": "markdown",
   "metadata": {},
   "source": [
    "#**Jesus Romero Alfaro**\n",
    "\n",
    "##Ejercicio 1\n",
    "\n",
    "---\n"
   ]
  },
  {
   "cell_type": "markdown",
   "metadata": {},
   "source": [
    "a) Usar la función random() para simular 1 volado."
   ]
  },
  {
   "cell_type": "code",
   "execution_count": 1,
   "metadata": {},
   "outputs": [
    {
     "name": "stdout",
     "output_type": "stream",
     "text": [
      "Aguila\n"
     ]
    }
   ],
   "source": [
    "from random import random\n",
    "def volado(n):\n",
    "    for i in range(n):\n",
    "        x=random()\n",
    "        if x>=0.5:\n",
    "            print(\"Sol\")\n",
    "        else:\n",
    "            print(\"Aguila\")\n",
    "volado(1)"
   ]
  },
  {
   "cell_type": "code",
   "execution_count": 2,
   "metadata": {},
   "outputs": [
    {
     "name": "stdout",
     "output_type": "stream",
     "text": [
      "Cantidad de soles: 537 \n",
      "Cantidad de aguilas: 463\n"
     ]
    }
   ],
   "source": [
    "from random import random\n",
    "def volado(n):\n",
    "    l1= []\n",
    "    l2= []\n",
    "    for i in range(n):\n",
    "        x=random()\n",
    "        if x>=0.5:\n",
    "            l1.append(x)\n",
    "            #print(\"sol\")\n",
    "        else:\n",
    "            l2.append(x)\n",
    "            #print(\"aguila\")\n",
    "    return print(f'Cantidad de soles: {len(l1)} \\nCantidad de aguilas: {len(l2)}' )\n",
    "volado(1000)"
   ]
  },
  {
   "cell_type": "markdown",
   "metadata": {},
   "source": [
    "c) Determinar de b) la probabilidad de que ocurra \"sol\" en un volado."
   ]
  },
  {
   "cell_type": "code",
   "execution_count": 3,
   "metadata": {},
   "outputs": [
    {
     "name": "stdout",
     "output_type": "stream",
     "text": [
      "Probabilidad que ocurra sol: 0.515 \n",
      "Probabilidad que ocurra aguila: 0.485\n"
     ]
    }
   ],
   "source": [
    "from random import random\n",
    "def volado(n):\n",
    "    l1= []\n",
    "    l2= []\n",
    "    for i in range(n):\n",
    "        x=random()\n",
    "        if x>=0.5:\n",
    "            l1.append(x)\n",
    "            #print(\"sol\")\n",
    "        else:\n",
    "            l2.append(x)\n",
    "            #print(\"aguila\")\n",
    "    return print(f'Probabilidad que ocurra sol: {len(l1)/n} \\nProbabilidad que ocurra aguila: {len(l2)/n}')\n",
    "volado(1000)"
   ]
  }
 ],
 "metadata": {
  "kernelspec": {
   "display_name": "Python 3.10.4 64-bit",
   "language": "python",
   "name": "python3"
  },
  "language_info": {
   "codemirror_mode": {
    "name": "ipython",
    "version": 3
   },
   "file_extension": ".py",
   "mimetype": "text/x-python",
   "name": "python",
   "nbconvert_exporter": "python",
   "pygments_lexer": "ipython3",
   "version": "3.10.4"
  },
  "orig_nbformat": 4,
  "vscode": {
   "interpreter": {
    "hash": "cd40eac72591e60645ad25b2718bc13d1b67dacf24bc467e3748fff1cf16ceb8"
   }
  }
 },
 "nbformat": 4,
 "nbformat_minor": 2
}
