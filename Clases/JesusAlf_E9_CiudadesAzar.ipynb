{
 "cells": [
  {
   "cell_type": "markdown",
   "metadata": {},
   "source": [
    "#**Jesus Romero Alfaro**\n",
    "\n",
    "##Ejercicio 9\n",
    "\n",
    "---\n",
    "\n",
    "Elegir al azar una ciudad de la Lista despues de hacer una mezcla."
   ]
  },
  {
   "cell_type": "code",
   "execution_count": 3,
   "metadata": {},
   "outputs": [
    {
     "name": "stdout",
     "output_type": "stream",
     "text": [
      "La cuidad que salio es: Rome\n"
     ]
    }
   ],
   "source": [
    "import random\n",
    "Lista = ['Rome','New York','London','Berlin','Moskov', 'Los Angeles','Paris','Madrid','Tokio','Toronto']\n",
    "random.shuffle(Lista)\n",
    "print(f'La cuidad que salio es: {random.choice(Lista)}')"
   ]
  },
  {
   "cell_type": "markdown",
   "metadata": {},
   "source": [
    "Elegir al azar tres ciudades después de una mezcla."
   ]
  },
  {
   "cell_type": "code",
   "execution_count": 4,
   "metadata": {},
   "outputs": [
    {
     "name": "stdout",
     "output_type": "stream",
     "text": [
      "La cuidad que salio es: Moskov\n",
      "La cuidad que salio es: Rome\n",
      "La cuidad que salio es: New York\n"
     ]
    }
   ],
   "source": [
    "Lista = ['Rome','New York','London','Berlin','Moskov', 'Los Angeles','Paris','Madrid','Tokio','Toronto']\n",
    "for i in range(3):\n",
    "    random.shuffle(Lista)\n",
    "    print(f'La cuidad que salio es: {random.choice(Lista)}')"
   ]
  }
 ],
 "metadata": {
  "kernelspec": {
   "display_name": "Python 3.10.4 64-bit",
   "language": "python",
   "name": "python3"
  },
  "language_info": {
   "codemirror_mode": {
    "name": "ipython",
    "version": 3
   },
   "file_extension": ".py",
   "mimetype": "text/x-python",
   "name": "python",
   "nbconvert_exporter": "python",
   "pygments_lexer": "ipython3",
   "version": "3.10.4"
  },
  "orig_nbformat": 4,
  "vscode": {
   "interpreter": {
    "hash": "cd40eac72591e60645ad25b2718bc13d1b67dacf24bc467e3748fff1cf16ceb8"
   }
  }
 },
 "nbformat": 4,
 "nbformat_minor": 2
}
