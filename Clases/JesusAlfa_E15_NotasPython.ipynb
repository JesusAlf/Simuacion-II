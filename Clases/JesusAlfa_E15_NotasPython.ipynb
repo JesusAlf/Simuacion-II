{
 "cells": [
  {
   "cell_type": "markdown",
   "metadata": {},
   "source": [
    "#**Jesus Romero Alfaro**\n",
    "\n",
    "##Ejercicio 15\n",
    "\n",
    "---\n",
    "\n",
    "¿Cómo accedemos al elemento 'c' de la lista [3, 'c'] dentro de lista?"
   ]
  },
  {
   "cell_type": "code",
   "execution_count": 9,
   "metadata": {},
   "outputs": [],
   "source": [
    "lista = [1,2,3,4,5, 'a', 'b', 'c', [1,2], [3, 'c']]"
   ]
  },
  {
   "cell_type": "code",
   "execution_count": 10,
   "metadata": {},
   "outputs": [
    {
     "data": {
      "text/plain": [
       "'c'"
      ]
     },
     "execution_count": 10,
     "metadata": {},
     "output_type": "execute_result"
    }
   ],
   "source": [
    "lista[9][1] #primer corchete es el lugar de la lista general "
   ]
  },
  {
   "cell_type": "markdown",
   "metadata": {},
   "source": [
    "Calcular el promedio de:\n",
    "\n",
    "-a\n",
    "\n",
    "-b\n",
    "\n",
    "-5a ¿Es igual a 5*(promedio de a)?\n",
    "\n",
    "-a + b ¿Es igual a la suma de los promedios?"
   ]
  },
  {
   "cell_type": "code",
   "execution_count": 11,
   "metadata": {},
   "outputs": [],
   "source": [
    "a = [1, 2, 3, 4, 5]\n",
    "b = [6,7,8,9,10]"
   ]
  },
  {
   "cell_type": "code",
   "execution_count": 12,
   "metadata": {},
   "outputs": [
    {
     "name": "stdout",
     "output_type": "stream",
     "text": [
      "Promedio de a 3\n",
      "Promedio de b 8\n"
     ]
    }
   ],
   "source": [
    "from statistics import mean \n",
    "print(\"Promedio de a\",mean(a))\n",
    "print(\"Promedio de b\",mean(b))"
   ]
  },
  {
   "cell_type": "code",
   "execution_count": 13,
   "metadata": {},
   "outputs": [
    {
     "name": "stdout",
     "output_type": "stream",
     "text": [
      "[1, 2, 3, 4, 5, 1, 2, 3, 4, 5, 1, 2, 3, 4, 5, 1, 2, 3, 4, 5, 1, 2, 3, 4, 5]\n",
      "15\n"
     ]
    }
   ],
   "source": [
    "print(5*a) #repite la lista 5 veces \n",
    "print(5*mean(a)) #multiplica la media por 5 "
   ]
  },
  {
   "cell_type": "code",
   "execution_count": 14,
   "metadata": {},
   "outputs": [
    {
     "name": "stdout",
     "output_type": "stream",
     "text": [
      "[1, 2, 3, 4, 5, 6, 7, 8, 9, 10]\n",
      "11\n",
      "5.5\n"
     ]
    }
   ],
   "source": [
    "print(a+b) #junta las dos listas en una sola lista \n",
    "print(mean(a)+mean(b)) #solo suma los valores promedios de las listas por separado \n",
    "print(mean(a+b)) #saca el promedio de las dos listas juntas como si fueran una sola "
   ]
  },
  {
   "cell_type": "markdown",
   "metadata": {},
   "source": [
    "##1.- Generar una lista de 20 números aleatorios."
   ]
  },
  {
   "cell_type": "code",
   "execution_count": 15,
   "metadata": {},
   "outputs": [
    {
     "name": "stdout",
     "output_type": "stream",
     "text": [
      "[0.6318093822195774, 0.7611472957401306, 0.6295618326534098, 0.685482049805301, 0.9758161273202431, 0.1721061604313039, 0.0893475893919149, 0.97961935380362, 0.3824733230805436, 0.08136462466528849, 0.6289298441738966, 0.5165634669235931, 0.5615343972916894, 0.3756646985946438, 0.4630406255685574, 0.3501566885454682, 0.37136198646459484, 0.7445944074050591, 0.4789093268326874, 0.8945681386658008]\n"
     ]
    }
   ],
   "source": [
    "import random\n",
    "lista_numeros=[]\n",
    "for i in range (20):\n",
    "    lista_numeros.append(random.random())\n",
    "print(lista_numeros)"
   ]
  },
  {
   "cell_type": "markdown",
   "metadata": {},
   "source": [
    "##2.- Obtener el promedio de los 10 últimos números generados."
   ]
  },
  {
   "cell_type": "code",
   "execution_count": 16,
   "metadata": {},
   "outputs": [
    {
     "name": "stdout",
     "output_type": "stream",
     "text": [
      "0.538532358046599\n"
     ]
    }
   ],
   "source": [
    "print(mean(lista_numeros[10:20])) #toma los elementos de posicion 10 a la posicion 19 "
   ]
  }
 ],
 "metadata": {
  "kernelspec": {
   "display_name": "Python 3.10.4 64-bit",
   "language": "python",
   "name": "python3"
  },
  "language_info": {
   "codemirror_mode": {
    "name": "ipython",
    "version": 3
   },
   "file_extension": ".py",
   "mimetype": "text/x-python",
   "name": "python",
   "nbconvert_exporter": "python",
   "pygments_lexer": "ipython3",
   "version": "3.10.4"
  },
  "orig_nbformat": 4,
  "vscode": {
   "interpreter": {
    "hash": "cd40eac72591e60645ad25b2718bc13d1b67dacf24bc467e3748fff1cf16ceb8"
   }
  }
 },
 "nbformat": 4,
 "nbformat_minor": 2
}
