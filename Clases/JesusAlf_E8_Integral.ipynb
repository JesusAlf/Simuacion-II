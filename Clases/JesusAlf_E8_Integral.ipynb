{
 "cells": [
  {
   "cell_type": "markdown",
   "metadata": {},
   "source": [
    "#**Jesus Romero Alfaro**\n",
    "\n",
    "##Ejercicio 3\n",
    "\n",
    "---\n"
   ]
  },
  {
   "cell_type": "code",
   "execution_count": 1,
   "metadata": {},
   "outputs": [
    {
     "name": "stdout",
     "output_type": "stream",
     "text": [
      "El resultado de la integral de 0 a 1:  0.5889939609691592\n"
     ]
    }
   ],
   "source": [
    "from random import random\n",
    "from math import  exp \n",
    "def g(x):\n",
    "    return (1-x**2)**(3/2)\n",
    "n=10000000\n",
    "suma=0\n",
    "l=[]\n",
    "for i in range(n):\n",
    "    u=random()\n",
    "    suma=suma+g(u)\n",
    "    l.append(suma)\n",
    "print(\"El resultado de la integral de 0 a 1: \",suma/n)"
   ]
  },
  {
   "cell_type": "code",
   "execution_count": 2,
   "metadata": {},
   "outputs": [
    {
     "name": "stdout",
     "output_type": "stream",
     "text": [
      "El resultado de la integral de 0 a 1:  93.30952950331097\n"
     ]
    }
   ],
   "source": [
    "from random import random\n",
    "from math import exp\n",
    "n=10000000\n",
    "s=0\n",
    "for i in range(n):\n",
    "    u=random()\n",
    "    s=s+exp(4*u-2)*exp((4*u-2)**2)\n",
    "print (\"El resultado de la integral de 0 a 1: \",4*s/n)"
   ]
  }
 ],
 "metadata": {
  "kernelspec": {
   "display_name": "Python 3.10.4 64-bit",
   "language": "python",
   "name": "python3"
  },
  "language_info": {
   "codemirror_mode": {
    "name": "ipython",
    "version": 3
   },
   "file_extension": ".py",
   "mimetype": "text/x-python",
   "name": "python",
   "nbconvert_exporter": "python",
   "pygments_lexer": "ipython3",
   "version": "3.10.4"
  },
  "orig_nbformat": 4,
  "vscode": {
   "interpreter": {
    "hash": "cd40eac72591e60645ad25b2718bc13d1b67dacf24bc467e3748fff1cf16ceb8"
   }
  }
 },
 "nbformat": 4,
 "nbformat_minor": 2
}
